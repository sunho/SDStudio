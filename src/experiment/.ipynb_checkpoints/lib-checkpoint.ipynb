{
 "cells": [
  {
   "cell_type": "code",
   "execution_count": 176,
   "id": "128932ce-1015-4e88-bb4f-44157af818ad",
   "metadata": {},
   "outputs": [],
   "source": [
    "import pandas as pd"
   ]
  },
  {
   "cell_type": "code",
   "execution_count": 177,
   "id": "83a1d8d4-56a3-4a70-92c4-eb2ab7118d3c",
   "metadata": {},
   "outputs": [],
   "source": [
    "df = pd.read_csv(\"danbooru.csv\")"
   ]
  },
  {
   "cell_type": "code",
   "execution_count": 184,
   "id": "6c025b6a-6874-47ef-87ef-d81037eb1f8b",
   "metadata": {},
   "outputs": [
    {
     "name": "stdout",
     "output_type": "stream",
     "text": [
      "                             tag  category     freq redirect\n",
      "0                         1girls         0  4919233    1girl\n",
      "1                    sole female         0  4919233    1girl\n",
      "2                          1girl         0  4919233     null\n",
      "3                    female solo         0  4092463     solo\n",
      "4                    solo female         0  4092463     solo\n",
      "...                          ...       ...      ...      ...\n",
      "122865            laimu (vtuber)         4       31     null\n",
      "122866                   lagombi         4       31     null\n",
      "122867                     l yth         1       31     null\n",
      "122868               kz (dbz kz)         1       31     null\n",
      "122869  kyuuto na kanojo (cevio)         3       31     null\n",
      "\n",
      "[122870 rows x 4 columns]\n"
     ]
    }
   ],
   "source": [
    "# Initialize a list to hold the new rows\n",
    "new_rows = []\n",
    "\n",
    "# Iterate over each row in the DataFrame\n",
    "for index, row in df.iterrows():\n",
    "    \n",
    "    if pd.notna(row['alias']):\n",
    "        # Split the alias string by commas\n",
    "        aliases = row['alias'].split(',')\n",
    "        for alias in aliases:\n",
    "            new_rows.append([alias.replace(\"_\", \" \"), row['category'], row['freq'], row['tag'].replace(\"_\", \" \")])\n",
    "    # Append the original row with an empty redirect\n",
    "    new_rows.append([row['tag'].replace(\"_\", \" \"), row['category'], row['freq'], 'null'])\n",
    "\n",
    "# Create a new DataFrame with the new rows\n",
    "new_df = pd.DataFrame(new_rows, columns=['tag', 'category', 'freq', 'redirect'])\n",
    "\n",
    "# Display the new DataFrame\n",
    "print(new_df)"
   ]
  },
  {
   "cell_type": "code",
   "execution_count": 185,
   "id": "8689e533-55ff-4208-b477-b23fca480677",
   "metadata": {},
   "outputs": [],
   "source": [
    "new_df.to_csv('db.csv', index=False, header=False)\n"
   ]
  },
  {
   "cell_type": "code",
   "execution_count": 149,
   "id": "98343b7d-4e7b-425d-be72-0cb0dad685f4",
   "metadata": {},
   "outputs": [
    {
     "name": "stderr",
     "output_type": "stream",
     "text": [
      "/var/folders/sk/k42rgb9s6fv2hpmyqq5jwx0h0000gn/T/ipykernel_32294/427097416.py:1: FutureWarning: Series.__getitem__ treating keys as positions is deprecated. In a future version, integer keys will always be treated as labels (consistent with DataFrame behavior). To access a value by position, use `ser.iloc[pos]`\n",
      "  combined_strings = df.apply(lambda row: row[0], axis=1)\n"
     ]
    }
   ],
   "source": [
    "combined_strings = df.apply(lambda row: row[0], axis=1)\n",
    "\n",
    "# Calculate the length of each combined string\n",
    "lengths = combined_strings.apply(len)\n",
    "\n",
    "# Compute the average length\n",
    "average_length = lengths.mean()\n"
   ]
  },
  {
   "cell_type": "code",
   "execution_count": 173,
   "id": "20882da2-0082-4423-92d3-889c3d073ddd",
   "metadata": {},
   "outputs": [
    {
     "data": {
      "text/plain": [
       "14.206792426548866"
      ]
     },
     "execution_count": 173,
     "metadata": {},
     "output_type": "execute_result"
    }
   ],
   "source": [
    "average_length"
   ]
  },
  {
   "cell_type": "code",
   "execution_count": 150,
   "id": "a48fee0e-2170-473e-b142-5be0b3e1450a",
   "metadata": {},
   "outputs": [],
   "source": [
    "combined_strings = combined_strings"
   ]
  },
  {
   "cell_type": "code",
   "execution_count": 172,
   "id": "d696f4cc-c1ba-4867-a797-d6ec1aa7723e",
   "metadata": {},
   "outputs": [
    {
     "name": "stdout",
     "output_type": "stream",
     "text": [
      "1727\n",
      "Autocomplete suggestions:\n"
     ]
    }
   ],
   "source": [
    "def is_subsequence(s1, s2):\n",
    "    # Two pointers for s1 and s2\n",
    "    i, j = 0, 0\n",
    "    \n",
    "    # Loop through s2\n",
    "    while i < len(s1) and j < len(s2):\n",
    "        # If characters match, move the pointer of s1\n",
    "        if s1[i] == s2[j]:\n",
    "            i += 1\n",
    "        # Always move the pointer of s2\n",
    "        j += 1\n",
    "    \n",
    "    # If we have moved through all characters of s1, it is a subsequence\n",
    "    return i == len(s1)\n",
    "\n",
    "def lcs_length_penalized(a, b):\n",
    "    if a.startswith(b) or b.startswith(a):\n",
    "        return 0\n",
    "    m, n = len(a), len(b)\n",
    "    INF = int(1e9)\n",
    "    dp = [[[INF, INF] for _ in range(n+1)] for _ in range(m + 1)]\n",
    "    dp[0][0][0] = 0\n",
    "\n",
    "    for i in range(m+1):\n",
    "        for j in range(n):\n",
    "            if i != m and a[i] == b[j]:\n",
    "                dp[i+1][j+1][1] = min(dp[i+1][j+1][1], dp[i][j][0]+1, dp[i][j][1])\n",
    "            dp[i][j+1][0] = min(dp[i][j+1][0], dp[i][j][1], dp[i][j][0])\n",
    "    return min(dp[m][n][1], dp[m][n][0])\n",
    "\n",
    "def autocomplete(keyword, strings):\n",
    "    # Calculate LCS length for each string compared to the keyword\n",
    "    suggestions = filter(lambda x: is_subsequence(keyword, x), strings)\n",
    "    print(len(list(suggestions)))\n",
    "    suggestions = [(s, lcs_length_penalized(keyword, s)) for s in suggestions]\n",
    "    \n",
    "    # Sort suggestions based on LCS length in descending order\n",
    "    sorted_suggestions = sorted(suggestions, key=lambda x: (x[1], x[0]), reverse=False)\n",
    "    \n",
    "    # Extract and return sorted strings\n",
    "    return sorted_suggestions\n",
    "\n",
    "# Example usage\n",
    "keyword = \"areol\"\n",
    "suggestions = autocomplete(keyword, combined_strings)[:30]\n",
    "print(\"Autocomplete suggestions:\")\n",
    "for suggestion in suggestions:\n",
    "    print(suggestion)"
   ]
  },
  {
   "cell_type": "code",
   "execution_count": 140,
   "id": "73c422b7-98ab-4c8f-8b7c-529d83c8e196",
   "metadata": {},
   "outputs": [
    {
     "name": "stdout",
     "output_type": "stream",
     "text": [
      "Autocomplete suggestions:\n",
      "1girl\n",
      "solo\n",
      "highres\n",
      "long_hair\n",
      "commentary_request\n",
      "breasts\n",
      "looking_at_viewer\n",
      "blush\n",
      "smile\n",
      "open_mouth\n",
      "short_hair\n",
      "blue_eyes\n",
      "simple_background\n",
      "shirt\n",
      "absurdres\n",
      "large_breasts\n",
      "skirt\n",
      "blonde_hair\n",
      "multiple_girls\n",
      "brown_hair\n",
      "black_hair\n",
      "long_sleeves\n",
      "hair_ornament\n",
      "white_background\n",
      "1boy\n",
      "gloves\n",
      "red_eyes\n",
      "bad_id\n",
      "dress\n",
      "thighhighs\n"
     ]
    }
   ],
   "source": [
    "keyword = \"\"\n",
    "suggestions = autocomplete(keyword, combined_strings)[:30]\n",
    "print(\"Autocomplete suggestions:\")\n",
    "for suggestion in suggestions:\n",
    "    print(suggestion)"
   ]
  },
  {
   "cell_type": "code",
   "execution_count": null,
   "id": "6591aec3-1802-46f6-9ef4-34341c56b858",
   "metadata": {},
   "outputs": [],
   "source": []
  }
 ],
 "metadata": {
  "kernelspec": {
   "display_name": "Python 3 (ipykernel)",
   "language": "python",
   "name": "python3"
  },
  "language_info": {
   "codemirror_mode": {
    "name": "ipython",
    "version": 3
   },
   "file_extension": ".py",
   "mimetype": "text/x-python",
   "name": "python",
   "nbconvert_exporter": "python",
   "pygments_lexer": "ipython3",
   "version": "3.10.14"
  }
 },
 "nbformat": 4,
 "nbformat_minor": 5
}
