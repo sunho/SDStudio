{
 "cells": [
  {
   "cell_type": "code",
   "execution_count": 1,
   "id": "128932ce-1015-4e88-bb4f-44157af818ad",
   "metadata": {},
   "outputs": [],
   "source": [
    "import pandas as pd"
   ]
  },
  {
   "cell_type": "code",
   "execution_count": 2,
   "id": "83a1d8d4-56a3-4a70-92c4-eb2ab7118d3c",
   "metadata": {},
   "outputs": [],
   "source": [
    "df = pd.read_csv(\"danbooru.csv\")"
   ]
  },
  {
   "cell_type": "code",
   "execution_count": 3,
   "id": "6c025b6a-6874-47ef-87ef-d81037eb1f8b",
   "metadata": {},
   "outputs": [],
   "source": [
    "# Initialize a list to hold the new rows\n",
    "new_rows = []\n",
    "\n",
    "# Iterate over each row in the DataFrame\n",
    "for index, row in df.iterrows():\n",
    "    \n",
    "    if pd.notna(row['alias']):\n",
    "        # Split the alias string by commas\n",
    "        aliases = row['alias'].split(',')\n",
    "        for alias in aliases:\n",
    "            new_rows.append([alias.replace(\"_\", \" \"), row['category'], row['freq'], row['tag'].replace(\"_\", \" \")])\n",
    "    # Append the original row with an empty redirect\n",
    "    new_rows.append([row['tag'].replace(\"_\", \" \"), row['category'], row['freq'], 'null'])\n",
    "\n",
    "# Create a new DataFrame with the new rows\n",
    "df = pd.DataFrame(new_rows, columns=['tag', 'category', 'freq', 'redirect'])\n"
   ]
  },
  {
   "cell_type": "code",
   "execution_count": null,
   "id": "825e982f-259b-429b-b97d-17abc0ac7197",
   "metadata": {},
   "outputs": [],
   "source": []
  },
  {
   "cell_type": "code",
   "execution_count": 4,
   "id": "a2f29b2e-7ec3-4945-9056-179708b4916e",
   "metadata": {},
   "outputs": [
    {
     "name": "stderr",
     "output_type": "stream",
     "text": [
      "/var/folders/sk/k42rgb9s6fv2hpmyqq5jwx0h0000gn/T/ipykernel_80451/4262189807.py:31: FutureWarning: A value is trying to be set on a copy of a DataFrame or Series through chained assignment using an inplace method.\n",
      "The behavior will change in pandas 3.0. This inplace method will never work because the intermediate object on which we are setting values always behaves as a copy.\n",
      "\n",
      "For example, when doing 'df[col].method(value, inplace=True)', try using 'df.method({col: value}, inplace=True)' or df[col] = df[col].method(value) instead, to perform the operation inplace on the original object.\n",
      "\n",
      "\n",
      "  result_df['category'].fillna(0, inplace=True)\n",
      "/var/folders/sk/k42rgb9s6fv2hpmyqq5jwx0h0000gn/T/ipykernel_80451/4262189807.py:32: FutureWarning: A value is trying to be set on a copy of a DataFrame or Series through chained assignment using an inplace method.\n",
      "The behavior will change in pandas 3.0. This inplace method will never work because the intermediate object on which we are setting values always behaves as a copy.\n",
      "\n",
      "For example, when doing 'df[col].method(value, inplace=True)', try using 'df.method({col: value}, inplace=True)' or df[col] = df[col].method(value) instead, to perform the operation inplace on the original object.\n",
      "\n",
      "\n",
      "  result_df['freq'].fillna(0, inplace=True)\n"
     ]
    }
   ],
   "source": [
    "import glob\n",
    "\n",
    "# Step 1: Read the text files from the directory using wildcards\n",
    "file_pattern = 'wildcards/*.txt'  # Adjust the path as needed\n",
    "files = glob.glob(file_pattern)\n",
    "\n",
    "# Initialize an empty list to store the new rows\n",
    "new_rows = []\n",
    "\n",
    "# Step 2: Extract the Korean and English words from each line\n",
    "for file in files:\n",
    "    with open(file, 'r', encoding='utf-8') as f:\n",
    "        for line in f:\n",
    "            lst =  line.strip().split(' : ')\n",
    "            if len(lst) == 1:\n",
    "                continue\n",
    "            korean_word, english_word = line.strip().split(' : ')\n",
    "            english_word = english_word.replace('_', ' ')\n",
    "            english_word = english_word.lower()\n",
    "            category = file.split(\"/\")[-1][:-4]\n",
    "            category = category.replace('-','/')\n",
    "            new_rows.append((category+'/'+korean_word, english_word))\n",
    "\n",
    "# Step 4: Create a DataFrame from the new rows\n",
    "new_data = pd.DataFrame(new_rows, columns=['tag', 'redirect'])\n",
    "\n",
    "# Step 5: Merge the new data with the existing DataFrame to get category and frequency\n",
    "result_df = pd.merge(new_data, df[['tag', 'category', 'freq']], left_on='redirect', right_on='tag', how='left')\n",
    "result_df.drop(columns=['tag_y'], inplace=True)\n",
    "result_df.rename(columns={'tag_x': 'tag'}, inplace=True)\n",
    "result_df['category'].fillna(0, inplace=True)\n",
    "result_df['freq'].fillna(0, inplace=True)\n",
    "result_df['category'] = result_df['category'].astype(int)\n",
    "result_df['freq'] = result_df['freq'].astype(int)\n",
    "\n",
    "\n",
    "# Step 6: Append the new data to the original DataFrame\n",
    "updated_df = pd.concat([df, result_df], ignore_index=True)\n"
   ]
  },
  {
   "cell_type": "code",
   "execution_count": 5,
   "id": "97b68c59-551d-4422-b513-96cbf1ed68dc",
   "metadata": {},
   "outputs": [
    {
     "data": {
      "text/html": [
       "<div>\n",
       "<style scoped>\n",
       "    .dataframe tbody tr th:only-of-type {\n",
       "        vertical-align: middle;\n",
       "    }\n",
       "\n",
       "    .dataframe tbody tr th {\n",
       "        vertical-align: top;\n",
       "    }\n",
       "\n",
       "    .dataframe thead th {\n",
       "        text-align: right;\n",
       "    }\n",
       "</style>\n",
       "<table border=\"1\" class=\"dataframe\">\n",
       "  <thead>\n",
       "    <tr style=\"text-align: right;\">\n",
       "      <th></th>\n",
       "      <th>tag</th>\n",
       "      <th>category</th>\n",
       "      <th>freq</th>\n",
       "      <th>redirect</th>\n",
       "    </tr>\n",
       "  </thead>\n",
       "  <tbody>\n",
       "    <tr>\n",
       "      <th>0</th>\n",
       "      <td>1girls</td>\n",
       "      <td>0</td>\n",
       "      <td>4919233</td>\n",
       "      <td>1girl</td>\n",
       "    </tr>\n",
       "    <tr>\n",
       "      <th>1</th>\n",
       "      <td>sole female</td>\n",
       "      <td>0</td>\n",
       "      <td>4919233</td>\n",
       "      <td>1girl</td>\n",
       "    </tr>\n",
       "    <tr>\n",
       "      <th>2</th>\n",
       "      <td>1girl</td>\n",
       "      <td>0</td>\n",
       "      <td>4919233</td>\n",
       "      <td>null</td>\n",
       "    </tr>\n",
       "    <tr>\n",
       "      <th>3</th>\n",
       "      <td>female solo</td>\n",
       "      <td>0</td>\n",
       "      <td>4092463</td>\n",
       "      <td>solo</td>\n",
       "    </tr>\n",
       "    <tr>\n",
       "      <th>4</th>\n",
       "      <td>solo female</td>\n",
       "      <td>0</td>\n",
       "      <td>4092463</td>\n",
       "      <td>solo</td>\n",
       "    </tr>\n",
       "    <tr>\n",
       "      <th>...</th>\n",
       "      <td>...</td>\n",
       "      <td>...</td>\n",
       "      <td>...</td>\n",
       "      <td>...</td>\n",
       "    </tr>\n",
       "    <tr>\n",
       "      <th>124727</th>\n",
       "      <td>성인/장난감/팬티 속 바이브레이터</td>\n",
       "      <td>0</td>\n",
       "      <td>1682</td>\n",
       "      <td>vibrator under panties</td>\n",
       "    </tr>\n",
       "    <tr>\n",
       "      <th>124728</th>\n",
       "      <td>성인/장난감/팬티호스 속 바이브레이터</td>\n",
       "      <td>0</td>\n",
       "      <td>64</td>\n",
       "      <td>vibrator under pantyhose</td>\n",
       "    </tr>\n",
       "    <tr>\n",
       "      <th>124729</th>\n",
       "      <td>성인/장난감/유두 위 바이브레이터</td>\n",
       "      <td>0</td>\n",
       "      <td>1068</td>\n",
       "      <td>vibrator on nipple</td>\n",
       "    </tr>\n",
       "    <tr>\n",
       "      <th>124730</th>\n",
       "      <td>성인/장난감/항문 속 바이브레이터</td>\n",
       "      <td>0</td>\n",
       "      <td>277</td>\n",
       "      <td>vibrator in anus</td>\n",
       "    </tr>\n",
       "    <tr>\n",
       "      <th>124731</th>\n",
       "      <td>성인/장난감/음경 위 바이브레이터</td>\n",
       "      <td>0</td>\n",
       "      <td>112</td>\n",
       "      <td>vibrator on penis</td>\n",
       "    </tr>\n",
       "  </tbody>\n",
       "</table>\n",
       "<p>124732 rows × 4 columns</p>\n",
       "</div>"
      ],
      "text/plain": [
       "                         tag  category     freq                  redirect\n",
       "0                     1girls         0  4919233                     1girl\n",
       "1                sole female         0  4919233                     1girl\n",
       "2                      1girl         0  4919233                      null\n",
       "3                female solo         0  4092463                      solo\n",
       "4                solo female         0  4092463                      solo\n",
       "...                      ...       ...      ...                       ...\n",
       "124727    성인/장난감/팬티 속 바이브레이터         0     1682    vibrator under panties\n",
       "124728  성인/장난감/팬티호스 속 바이브레이터         0       64  vibrator under pantyhose\n",
       "124729    성인/장난감/유두 위 바이브레이터         0     1068        vibrator on nipple\n",
       "124730    성인/장난감/항문 속 바이브레이터         0      277          vibrator in anus\n",
       "124731    성인/장난감/음경 위 바이브레이터         0      112         vibrator on penis\n",
       "\n",
       "[124732 rows x 4 columns]"
      ]
     },
     "execution_count": 5,
     "metadata": {},
     "output_type": "execute_result"
    }
   ],
   "source": [
    "updated_df"
   ]
  },
  {
   "cell_type": "code",
   "execution_count": 6,
   "id": "8689e533-55ff-4208-b477-b23fca480677",
   "metadata": {},
   "outputs": [],
   "source": [
    "updated_df.to_csv('db.csv', index=False, header=False)"
   ]
  },
  {
   "cell_type": "code",
   "execution_count": 149,
   "id": "98343b7d-4e7b-425d-be72-0cb0dad685f4",
   "metadata": {},
   "outputs": [
    {
     "name": "stderr",
     "output_type": "stream",
     "text": [
      "/var/folders/sk/k42rgb9s6fv2hpmyqq5jwx0h0000gn/T/ipykernel_32294/427097416.py:1: FutureWarning: Series.__getitem__ treating keys as positions is deprecated. In a future version, integer keys will always be treated as labels (consistent with DataFrame behavior). To access a value by position, use `ser.iloc[pos]`\n",
      "  combined_strings = df.apply(lambda row: row[0], axis=1)\n"
     ]
    }
   ],
   "source": [
    "combined_strings = df.apply(lambda row: row[0], axis=1)\n",
    "\n",
    "# Calculate the length of each combined string\n",
    "lengths = combined_strings.apply(len)\n",
    "\n",
    "# Compute the average length\n",
    "average_length = lengths.mean()\n"
   ]
  },
  {
   "cell_type": "code",
   "execution_count": 173,
   "id": "20882da2-0082-4423-92d3-889c3d073ddd",
   "metadata": {},
   "outputs": [
    {
     "data": {
      "text/plain": [
       "14.206792426548866"
      ]
     },
     "execution_count": 173,
     "metadata": {},
     "output_type": "execute_result"
    }
   ],
   "source": [
    "average_length"
   ]
  },
  {
   "cell_type": "code",
   "execution_count": 150,
   "id": "a48fee0e-2170-473e-b142-5be0b3e1450a",
   "metadata": {},
   "outputs": [],
   "source": [
    "combined_strings = combined_strings"
   ]
  },
  {
   "cell_type": "code",
   "execution_count": 172,
   "id": "d696f4cc-c1ba-4867-a797-d6ec1aa7723e",
   "metadata": {},
   "outputs": [
    {
     "name": "stdout",
     "output_type": "stream",
     "text": [
      "1727\n",
      "Autocomplete suggestions:\n"
     ]
    }
   ],
   "source": [
    "def is_subsequence(s1, s2):\n",
    "    # Two pointers for s1 and s2\n",
    "    i, j = 0, 0\n",
    "    \n",
    "    # Loop through s2\n",
    "    while i < len(s1) and j < len(s2):\n",
    "        # If characters match, move the pointer of s1\n",
    "        if s1[i] == s2[j]:\n",
    "            i += 1\n",
    "        # Always move the pointer of s2\n",
    "        j += 1\n",
    "    \n",
    "    # If we have moved through all characters of s1, it is a subsequence\n",
    "    return i == len(s1)\n",
    "\n",
    "def lcs_length_penalized(a, b):\n",
    "    if a.startswith(b) or b.startswith(a):\n",
    "        return 0\n",
    "    m, n = len(a), len(b)\n",
    "    INF = int(1e9)\n",
    "    dp = [[[INF, INF] for _ in range(n+1)] for _ in range(m + 1)]\n",
    "    dp[0][0][0] = 0\n",
    "\n",
    "    for i in range(m+1):\n",
    "        for j in range(n):\n",
    "            if i != m and a[i] == b[j]:\n",
    "                dp[i+1][j+1][1] = min(dp[i+1][j+1][1], dp[i][j][0]+1, dp[i][j][1])\n",
    "            dp[i][j+1][0] = min(dp[i][j+1][0], dp[i][j][1], dp[i][j][0])\n",
    "    return min(dp[m][n][1], dp[m][n][0])\n",
    "\n",
    "def autocomplete(keyword, strings):\n",
    "    # Calculate LCS length for each string compared to the keyword\n",
    "    suggestions = filter(lambda x: is_subsequence(keyword, x), strings)\n",
    "    print(len(list(suggestions)))\n",
    "    suggestions = [(s, lcs_length_penalized(keyword, s)) for s in suggestions]\n",
    "    \n",
    "    # Sort suggestions based on LCS length in descending order\n",
    "    sorted_suggestions = sorted(suggestions, key=lambda x: (x[1], x[0]), reverse=False)\n",
    "    \n",
    "    # Extract and return sorted strings\n",
    "    return sorted_suggestions\n",
    "\n",
    "# Example usage\n",
    "keyword = \"areol\"\n",
    "suggestions = autocomplete(keyword, combined_strings)[:30]\n",
    "print(\"Autocomplete suggestions:\")\n",
    "for suggestion in suggestions:\n",
    "    print(suggestion)"
   ]
  },
  {
   "cell_type": "code",
   "execution_count": 140,
   "id": "73c422b7-98ab-4c8f-8b7c-529d83c8e196",
   "metadata": {},
   "outputs": [
    {
     "name": "stdout",
     "output_type": "stream",
     "text": [
      "Autocomplete suggestions:\n",
      "1girl\n",
      "solo\n",
      "highres\n",
      "long_hair\n",
      "commentary_request\n",
      "breasts\n",
      "looking_at_viewer\n",
      "blush\n",
      "smile\n",
      "open_mouth\n",
      "short_hair\n",
      "blue_eyes\n",
      "simple_background\n",
      "shirt\n",
      "absurdres\n",
      "large_breasts\n",
      "skirt\n",
      "blonde_hair\n",
      "multiple_girls\n",
      "brown_hair\n",
      "black_hair\n",
      "long_sleeves\n",
      "hair_ornament\n",
      "white_background\n",
      "1boy\n",
      "gloves\n",
      "red_eyes\n",
      "bad_id\n",
      "dress\n",
      "thighhighs\n"
     ]
    }
   ],
   "source": [
    "keyword = \"\"\n",
    "suggestions = autocomplete(keyword, combined_strings)[:30]\n",
    "print(\"Autocomplete suggestions:\")\n",
    "for suggestion in suggestions:\n",
    "    print(suggestion)"
   ]
  },
  {
   "cell_type": "code",
   "execution_count": null,
   "id": "6591aec3-1802-46f6-9ef4-34341c56b858",
   "metadata": {},
   "outputs": [],
   "source": []
  }
 ],
 "metadata": {
  "kernelspec": {
   "display_name": "Python 3 (ipykernel)",
   "language": "python",
   "name": "python3"
  },
  "language_info": {
   "codemirror_mode": {
    "name": "ipython",
    "version": 3
   },
   "file_extension": ".py",
   "mimetype": "text/x-python",
   "name": "python",
   "nbconvert_exporter": "python",
   "pygments_lexer": "ipython3",
   "version": "3.10.14"
  }
 },
 "nbformat": 4,
 "nbformat_minor": 5
}
